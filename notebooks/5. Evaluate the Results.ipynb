{
 "cells": [
  {
   "cell_type": "markdown",
   "id": "be06f11e",
   "metadata": {},
   "source": [
    "# Evaluate the two runs with `trec_eval`\n",
    "\n",
    "This notebook shows how `trec_eval` can be used to compute the nDCG\n",
    "Prerequisite: command line tool `trec_eval` installed. Check out https://aldolipani.com/trec_eval-installation-usage-and-behaviour/ for guidance if you don't have it installed already.\n",
    "\n",
    "The following assumes that the results of the two runs are located in these files:\n",
    "* `../data/es_result`\n",
    "* `../data/jina_result`"
   ]
  },
  {
   "cell_type": "code",
   "execution_count": null,
   "id": "719185af",
   "metadata": {},
   "outputs": [],
   "source": [
    "!trec_eval ../data/ratings.qrels ../data/es_result -m ndcg_cut"
   ]
  },
  {
   "cell_type": "code",
   "execution_count": null,
   "id": "d1e2174e",
   "metadata": {},
   "outputs": [],
   "source": [
    "!trec_eval ../data/ratings.qrels ../data/jina_result -m ndcg_cut"
   ]
  },
  {
   "cell_type": "code",
   "execution_count": null,
   "id": "b40044f0",
   "metadata": {},
   "outputs": [],
   "source": []
  }
 ],
 "metadata": {
  "kernelspec": {
   "display_name": "Python 3 (ipykernel)",
   "language": "python",
   "name": "python3"
  },
  "language_info": {
   "codemirror_mode": {
    "name": "ipython",
    "version": 3
   },
   "file_extension": ".py",
   "mimetype": "text/x-python",
   "name": "python",
   "nbconvert_exporter": "python",
   "pygments_lexer": "ipython3",
   "version": "3.10.9"
  }
 },
 "nbformat": 4,
 "nbformat_minor": 5
}
