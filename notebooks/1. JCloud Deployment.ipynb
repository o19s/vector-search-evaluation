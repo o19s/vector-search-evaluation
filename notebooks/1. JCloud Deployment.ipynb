{
 "cells": [
  {
   "cell_type": "markdown",
   "metadata": {
    "id": "OOJZpRa4Mm8U"
   },
   "source": [
    "# Deploying a Flow to JCloud and Indexing the Icecat Data\n",
    "\n",
    "### Jupyter notebook version of the Colab notebook created at the Jina AI hackday \n",
    "\n",
    "Related blog: https://opensourceconnections.com/blog/2022/10/31/applying-vector-search-in-e-commerce/\n",
    "\n",
    "### Dataset: Icecat dataset from Chorus/Chorus - the Elasticsearch Edition\n",
    "### Github Repos:\n",
    "- https://github.com/querqy/chorus-elasticsearch-edition\n",
    "- https://github.com/querqy/chorus"
   ]
  },
  {
   "cell_type": "markdown",
   "metadata": {
    "id": "jHBUhd9OKB2l"
   },
   "source": [
    "### Sample of the data:\n",
    "\n",
    "\n",
    "\n",
    "```\n",
    "[\n",
    "    {\n",
    "        \"id\": \"3920564\",\n",
    "        \"name\": \"006R90321\",\n",
    "        \"title\": \"Xerox 006R90321 toner cartridge Original Black 6 pc(s)\",\n",
    "        \"ean\": [\n",
    "            \"0095205603217\"\n",
    "        ],\n",
    "        \"short_description\": \"Toner (6 Per Box) for CopyCentre C65 Digital Copier\",\n",
    "        \"img_high\": \"http://images.icecat.biz/img/gallery/img_3920564_high_1472618727_1208_7091.jpg\",\n",
    "        \"img_low\": \"http://images.icecat.biz/img/gallery_lows/img_3920564_low_1472618727_2493_7091.jpg\",\n",
    "        \"img_500x500\": \"http://images.icecat.biz/img/gallery_mediums/img_3920564_medium_1472618727_1445_7091.jpg\",\n",
    "        \"img_thumb\": \"http://images.icecat.biz/img/gallery_thumbs/img_3920564_thumb_1472618727_2925_7091.jpg\",\n",
    "        \"date_released\": \"2009-12-10T00:00:00Z\",\n",
    "        \"supplier\": \"Xerox\",\n",
    "        \"price\": 4995,\n",
    "        \"attr_t_type\": \"Original\",\n",
    "        \"attr_t_printing_colours\": \"Black\",\n",
    "        \"attr_t_print_technology\": \"Laser printing\",\n",
    "        \"attr_t_compatibility\": \"CopyCentre C65\",\n",
    "        \"attr_n_quantity_per_pack\": 6.0,\n",
    "        \"attr_n_black_toner_page_yield\": 23000.0\n",
    "    },\n",
    "    {\n",
    "        \"id\": \"2101957\",\n",
    "        \"name\": \"dv7-1211ea\",\n",
    "        \"title\": \"HP Pavilion dv7-1211ea Notebook Silver 43.2 cm (17\\\") 1440 x 900 pixels Intel® Core™2 Duo 4 GB DDR2-SDRAM 250 GB HDD NVIDIA® GeForce® 9200M GS Windows Vista Home Premium\",\n",
    "        \"ean\": [\n",
    "            \"0884420588030\"\n",
    "        ],\n",
    "        \"short_description\": \"Intel Core 2 Duo Processor P7450 (3M Cache, 2.13 GHz, 1066 MHz FSB), 4GB DDR2, 250GB SATA HDD, 17\\\" WXGA+ HD BrightView 1440 x 900, nVidia GeForce 9200M GS, DVD Super Multi DL, Gigabit Ethernet, WLAN 802.11 b/g, WebCam, Windows Vista Home Premium 32-bit\",\n",
    "        \"img_high\": \"http://images.icecat.biz/img/gallery/2101957_8011415648.jpg\",\n",
    "        \"img_low\": \"http://images.icecat.biz/img/gallery_lows/2101957_8011415648.jpg\",\n",
    "        \"img_500x500\": \"http://images.icecat.biz/img/gallery_mediums/2101957_8011415648.jpg\",\n",
    "        \"img_thumb\": \"http://images.icecat.biz/img/gallery_thumbs/2101957_8011415648.jpg\",\n",
    "        \"date_released\": \"2008-12-19T00:00:00Z\",\n",
    "        \"supplier\": \"HP\",\n",
    "        \"price\": 10995,\n",
    "        \"attr_t_product_type\": \"Notebook\",\n",
    "        \"attr_t_product_colour\": \"Silver\",\n",
    "        \"attr_t_form_factor\": \"Clamshell\",\n",
    "        \"attr_t_country_of_origin\": \"China\",\n",
    "        \"attr_n_display_diagonal\": 17.0,\n",
    "        \"attr_t_display_resolution\": \"1440 x 900\",\n",
    "        \"attr_b_touchscreen\": false,\n",
    "        \"attr_t_aspect_ratio\": \"16:10\",\n",
    "        \"attr_t_contrast_ratio__typical_\": \"200:1\",\n",
    "        \"attr_t_processor_family\": \"Intel Core 2 Duo\",\n",
    "        \"attr_t_processor_manufacturer\": \"Intel\",\n",
    "        \"attr_t_processor_model\": \"P7450\",\n",
    "        \"attr_n_processor_frequency\": 2.13,\n",
    "        \"attr_t_processor_cores\": \"2\",\n",
    "        \"attr_t_processor_threads\": \"2\",\n",
    "        \"attr_n_processor_cache\": 3.0,\n",
    "        \"attr_t_processor_cache_type\": \"L2\",\n",
    "        \"attr_t_processor_socket\": \"Socket 478\",\n",
    "        \"attr_n_processor_front_side_bus\": 1066.0,\n",
    "        \"attr_n_processor_lithography\": 45.0,\n",
    "        \"attr_t_processor_operating_modes\": \"64-bit\",\n",
    "        \"attr_t_processor_series\": \"Intel Core 2 Duo P7000 series\",\n",
    "        \"attr_t_processor_codename\": \"Penryn\",\n",
    "        \"attr_t_bus_type\": \"FSB\",\n",
    "        \"attr_b_fsb_parity\": false,\n",
    "        \"attr_t_stepping\": \"M0\",\n",
    "        \"attr_n_thermal_design_power__tdp_\": 25.0,\n",
    "        \"attr_n_tjunction\": 90.0,\n",
    "        \"attr_n_number_of_processing_die_transistors\": 410.0,\n",
    "        \"attr_n_processing_die_size\": 107.0,\n",
    "        \"attr_n_cpu_multiplier__bus_core_ratio_\": 7.5,\n",
    "        \"attr_b_ecc_supported_by_processor\": false,\n",
    "        \"attr_n_internal_memory\": 4.0,\n",
    "        \"attr_t_internal_memory_type\": \"DDR2-SDRAM\",\n",
    "        \"attr_n_maximum_internal_memory\": 8.0,\n",
    "        \"attr_t_memory_form_factor\": \"SO-DIMM\",\n",
    "        \"attr_t_memory_layout__slots_x_size_\": \"2 x 2\",\n",
    "        \"attr_t_memory_slots\": \"2x SO-DIMM\",\n",
    "        \"attr_n_total_storage_capacity\": 250.0,\n",
    "        \"attr_t_storage_media\": \"HDD\",\n",
    "        \"attr_t_optical_drive_type\": \"DVD Super Multi DL\",\n",
    "        \"attr_b_card_reader_integrated\": true,\n",
    "        \"attr_n_number_of_hdds_installed\": 1.0,\n",
    "        \"attr_n_hdd_capacity\": 250.0,\n",
    "        \"attr_t_hdd_interface\": \"SATA\",\n",
    "        \"attr_t_hdd_speed\": \"5400\",\n",
    "        \"attr_t_compatible_memory_cards\": \"Memory Stick (MS),MMC,MS PRO,SD,xD\",\n",
    "        \"attr_b_on_board_graphics_adapter\": false,\n",
    "        \"attr_b_discrete_graphics_adapter\": true,\n",
    "        \"attr_t_discrete_graphics_adapter_model\": \"NVIDIA GeForce 9200M GS\",\n",
    "        \"attr_t_on_board_graphics_adapter_model\": \"Not available\",\n",
    "        \"attr_n_discrete_graphics_adapter_memory\": 0.512,\n",
    "        \"attr_t_audio_system\": \"3D Sound Blaster Pro\",\n",
    "        \"attr_n_number_of_built_in_speakers\": 2.0,\n",
    "        \"attr_t_speakers_manufacturer\": \"Altec Lansing\",\n",
    "        \"attr_b_built_in_microphone\": true,\n",
    "        \"attr_b_front_camera\": true,\n",
    "        \"attr_b_bluetooth\": true,\n",
    "        \"attr_t_wi_fi_standards\": \"802.11b,802.11g\",\n",
    "        \"attr_b_ethernet_lan\": true,\n",
    "        \"attr_b_wi_fi\": true,\n",
    "        \"attr_t_ethernet_lan_data_rates\": \"10,100,1000\",\n",
    "        \"attr_t_data_network\": \"Not supported\",\n",
    "        \"attr_b_4g_wimax\": false,\n",
    "        \"attr_n_usb_2_0_ports_quantity\": 4.0,\n",
    "        \"attr_n_hdmi_ports_quantity\": 1.0,\n",
    "        \"attr_n_esata_ports_quantity\": 1.0,\n",
    "        \"attr_n_ethernet_lan__rj_45__ports\": 1.0,\n",
    "        \"attr_b_dvi_port\": false,\n",
    "        \"attr_n_vga__d_sub__ports_quantity\": 1.0,\n",
    "        \"attr_n_firewire__ieee_1394__ports\": 1.0,\n",
    "        \"attr_n_headphone_outputs\": 2.0,\n",
    "        \"attr_b_s_pdif_out_port\": false,\n",
    "        \"attr_b_microphone_in\": true,\n",
    "        \"attr_b_docking_connector\": true,\n",
    "        \"attr_t_charging_port_type\": \"DC-in jack\",\n",
    "        \"attr_b_expresscard_slot\": true,\n",
    "        \"attr_t_cardbus_pcmcia_slot_type\": \"N\",\n",
    "        \"attr_b_smartcard_slot\": false,\n",
    "        \"attr_n_modem__rj_11__ports\": 1.0,\n",
    "        \"attr_t_headphone_connectivity\": \"3.5 mm\",\n",
    "        \"attr_t_microphone_connectivity\": \"3.5 mm\",\n",
    "        \"attr_b_numeric_keypad\": true,\n",
    "        \"attr_t_pointing_device\": \"Touchpad\",\n",
    "        \"attr_b_full_size_keyboard\": true,\n",
    "        \"attr_b_windows_keys\": true,\n",
    "        \"attr_t_operating_system_installed\": \"Windows Vista Home Premium\",\n",
    "        \"attr_t_operating_system_architecture\": \"32-bit\",\n",
    "        \"attr_b_drivers_included\": true,\n",
    "        \"attr_b_intel__wireless_display__intel__widi_\": false,\n",
    "        \"attr_b_intel__my_wifi_technology__intel__mwt_\": false,\n",
    "        \"attr_b_intel_smart_connect_technology\": false,\n",
    "        \"attr_b_intel__anti_theft_technology__intel__at_\": false,\n",
    "        \"attr_b_intel__rapid_start_technology\": false,\n",
    "        \"attr_b_intel__smart_response_technology\": false,\n",
    "        \"attr_b_intel__hyper_threading_technology__intel__ht_technology_\": false,\n",
    "        \"attr_t_intel__turbo_boost_technology\": \"N\",\n",
    "        \"attr_b_enhanced_intel_speedstep_technology\": true,\n",
    "        \"attr_b_intel__clear_video_hd_technology__intel__cvt_hd_\": false,\n",
    "        \"attr_b_intel_clear_video_technology\": false,\n",
    "        \"attr_b_intel__intru__3d_technology\": false,\n",
    "        \"attr_b_intel__insider_\": false,\n",
    "        \"attr_b_intel__quick_sync_video_technology\": false,\n",
    "        \"attr_b_intel_flex_memory_access\": false,\n",
    "        \"attr_b_intel__aes_new_instructions__intel__aes_ni_\": false,\n",
    "        \"attr_b_intel_trusted_execution_technology\": false,\n",
    "        \"attr_b_intel_enhanced_halt_state\": false,\n",
    "        \"attr_b_intel_vt_x_with_extended_page_tables__ept_\": false,\n",
    "        \"attr_b_intel_demand_based_switching\": false,\n",
    "        \"attr_b_intel__clear_video_technology_for_mobile_internet_devices__intel_cvt_for_mid_\": false,\n",
    "        \"attr_b_intel_64\": true,\n",
    "        \"attr_b_execute_disable_bit\": true,\n",
    "        \"attr_b_thermal_monitoring_technologies\": false,\n",
    "        \"attr_b_embedded_options_available\": false,\n",
    "        \"attr_b_intel_virtualization_technology_for_directed_i_o__vt_d_\": false,\n",
    "        \"attr_b_intel_virtualization_technology__vt_x_\": true,\n",
    "        \"attr_b_intel_dual_display_capable_technology\": false,\n",
    "        \"attr_b_intel_fdi_technology\": false,\n",
    "        \"attr_b_intel_rapid_storage_technology\": false,\n",
    "        \"attr_b_intel_fast_memory_access\": false,\n",
    "        \"attr_n_processor_ark_id\": 36734.0,\n",
    "        \"attr_b_conflict_free_processor\": false,\n",
    "        \"attr_t_battery_technology\": \"Lithium-Ion (Li-Ion)\",\n",
    "        \"attr_t_number_of_battery_cells\": \"8\",\n",
    "        \"attr_n_ac_adapter_power\": 90.0,\n",
    "        \"attr_t_ac_adapter_frequency\": \"50 - 60\",\n",
    "        \"attr_t_ac_adapter_input_voltage\": \"100 - 240\",\n",
    "        \"attr_b_power_auto_sensing\": true,\n",
    "        \"attr_b_cable_lock_slot\": true,\n",
    "        \"attr_t_operating_temperature__t_t_\": \"0 - 35\",\n",
    "        \"attr_t_storage_temperature__t_t_\": \"-20 - 60\",\n",
    "        \"attr_t_operating_relative_humidity__h_h_\": \"10 - 90\",\n",
    "        \"attr_t_storage_relative_humidity__h_h_\": \"5 - 65\",\n",
    "        \"attr_t_operating_altitude\": \"-15 - 3048\",\n",
    "        \"attr_t_non_operating_altitude\": \"-15 - 12192\",\n",
    "        \"attr_b_energy_star_certified\": true,\n",
    "        \"attr_n_weight\": 3460.0,\n",
    "        \"attr_n_width\": 396.0,\n",
    "        \"attr_n_depth\": 285.0,\n",
    "        \"attr_n_height\": 45.0,\n",
    "        \"attr_n_package_width\": 480.0,\n",
    "        \"attr_n_package_depth\": 170.0,\n",
    "        \"attr_n_package_height\": 350.0,\n",
    "        \"attr_b_handheld_remote_control\": true,\n",
    "        \"attr_b_manual\": true,\n",
    "        \"attr_b_warranty_card\": true,\n",
    "        \"attr_b_power_cord_included\": true,\n",
    "        \"attr_b_ac_adapter_included\": true,\n",
    "        \"attr_b_lightscribe\": true,\n",
    "        \"attr_n_maximum_internal_memory__64_bit_\": 8.0\n",
    "    }\n",
    "]\n",
    "```\n",
    "\n"
   ]
  },
  {
   "cell_type": "markdown",
   "metadata": {
    "id": "vUYGCkFkKARz"
   },
   "source": [
    "### Install necessary dependencies and import libraries"
   ]
  },
  {
   "cell_type": "code",
   "execution_count": null,
   "metadata": {
    "colab": {
     "base_uri": "https://localhost:8080/"
    },
    "id": "AkwDXuEAKUqv",
    "outputId": "9b127ad3-687d-475a-d940-f009029dad71"
   },
   "outputs": [],
   "source": [
    "!pip install docarray\n",
    "!pip install jina"
   ]
  },
  {
   "cell_type": "code",
   "execution_count": null,
   "metadata": {
    "id": "rH1dYh7dJ2GI"
   },
   "outputs": [],
   "source": [
    "from docarray import DocumentArray, Document\n",
    "import numpy as np\n",
    "import json"
   ]
  },
  {
   "cell_type": "markdown",
   "metadata": {
    "id": "cV5KIfVPYflv"
   },
   "source": [
    "### Download the data"
   ]
  },
  {
   "cell_type": "code",
   "execution_count": null,
   "metadata": {
    "colab": {
     "base_uri": "https://localhost:8080/"
    },
    "id": "JFAVkflZKmF0",
    "outputId": "350e2a34-5d4d-4bd3-cea8-d34f2dff5d84"
   },
   "outputs": [],
   "source": [
    "!wget -O ../data/icecat-products-w_price-19k-20201127.tar.gz https://querqy.org/datasets/icecat/icecat-products-w_price-19k-20201127.tar.gz"
   ]
  },
  {
   "cell_type": "markdown",
   "metadata": {
    "id": "ZKOeo1uGYiZ8"
   },
   "source": [
    "### Extract the data"
   ]
  },
  {
   "cell_type": "code",
   "execution_count": null,
   "metadata": {
    "id": "cYHyP0_2Kz-e"
   },
   "outputs": [],
   "source": [
    "!tar xzf ../data/icecat-products-w_price-19k-20201127.tar.gz"
   ]
  },
  {
   "cell_type": "markdown",
   "metadata": {
    "id": "VIq7VJCGYpnP"
   },
   "source": [
    "### Build a DocumentArray\n",
    "We're looping over the JSON data to concatenate the \"meaningful\" fields (title, textual attributes, short description, name, supplier) that we later want to use for our embeddings."
   ]
  },
  {
   "cell_type": "code",
   "execution_count": null,
   "metadata": {
    "colab": {
     "base_uri": "https://localhost:8080/",
     "height": 696
    },
    "id": "rGURHcjHMXzZ",
    "outputId": "6716f7af-a033-434e-8ff5-2663c46a5349"
   },
   "outputs": [],
   "source": [
    "da = DocumentArray()\n",
    "  \n",
    "with open('../data/icecat-products-w_price-19k-20201127.json') as f:\n",
    "    jdocs = json.load(f)\n",
    "for doc in jdocs:\n",
    "    d = Document(text=\" \".join([doc[item] for item in doc if item.startswith(\"title\") \n",
    "    or item.startswith(\"attr_t\")\n",
    "    or item.startswith(\"short_description\") \n",
    "    or item.startswith(\"name\")\n",
    "    or item.startswith(\"supplier\")]), tags=doc)\n",
    "    da.append(d)\n",
    "\n",
    "da.summary()\n",
    "da[0]"
   ]
  },
  {
   "cell_type": "markdown",
   "metadata": {
    "id": "U3722sYrMCmT"
   },
   "source": [
    "### Login to JCloud"
   ]
  },
  {
   "cell_type": "code",
   "execution_count": null,
   "metadata": {
    "id": "mvQAnNUt7Nmp"
   },
   "outputs": [],
   "source": [
    "!jc login"
   ]
  },
  {
   "cell_type": "markdown",
   "metadata": {},
   "source": [
    "### List flows \n",
    "\n",
    "Check your connection and login status by listing the flows"
   ]
  },
  {
   "cell_type": "code",
   "execution_count": null,
   "metadata": {},
   "outputs": [],
   "source": [
    "!jc list"
   ]
  },
  {
   "cell_type": "markdown",
   "metadata": {
    "id": "qRXowyM6ZHEQ"
   },
   "source": [
    "### Define a Flow\n",
    "Our Flow consists of an encoder and an indexer. The encoder uses the TransformerTorchEncoder to generate embeddings, the indexer indexes the embeddings together with some metadata (`supplier, price, attr_t_product_type, attr_product_colour`) that can be used to filter the data later on.\n"
   ]
  },
  {
   "cell_type": "markdown",
   "metadata": {
    "id": "FrgX7AUkYHs4"
   },
   "source": [
    "### This is how a flow looks like in yaml\n",
    "\n",
    "```\n",
    "jtype: Flow\n",
    "with:\n",
    "  port: 12345\n",
    "executors:\n",
    "- name: encoder\n",
    "  uses: jinahub+docker://TransformerTorchEncoder/latest\n",
    "  jcloud:\n",
    "    resources:\n",
    "      cpu: 2\n",
    "      memory: 8G\n",
    "      gpu: 2\n",
    "- name: indexer\n",
    "  uses: jinahub+docker://AnnLiteIndexer/latest\n",
    "  uses_with:\n",
    "    columns:\n",
    "    - - supplier\n",
    "      - str\n",
    "    - - price\n",
    "      - float\n",
    "    - - attr_t_product_type\n",
    "      - str\n",
    "    - - attr_t_product_colour\n",
    "      - str\n",
    "    n_dim: 768\n",
    "  jcloud:\n",
    "    resources:\n",
    "      storage: \n",
    "      type: ebs\n",
    "      size: 10G\n",
    "\n"
   ]
  },
  {
   "cell_type": "markdown",
   "metadata": {
    "id": "85jhm7T8MFVK"
   },
   "source": [
    "### Deploy your flow.yml"
   ]
  },
  {
   "cell_type": "code",
   "execution_count": null,
   "metadata": {
    "colab": {
     "base_uri": "https://localhost:8080/"
    },
    "id": "5k6mIBi0Lm7G",
    "outputId": "758fa66e-5786-4b3f-ac54-a7a9635c379b"
   },
   "outputs": [],
   "source": [
    "!jc --loglevel DEBUG deploy ../data/flow-jcloud.yml"
   ]
  },
  {
   "cell_type": "code",
   "execution_count": null,
   "metadata": {},
   "outputs": [],
   "source": [
    "!pip install -U jcloud"
   ]
  },
  {
   "cell_type": "code",
   "execution_count": null,
   "metadata": {
    "colab": {
     "base_uri": "https://localhost:8080/"
    },
    "id": "I4JsusuJOEHl",
    "outputId": "fc9ee4bd-2225-41c5-f6f0-74f7585f4ea7",
    "scrolled": true
   },
   "outputs": [],
   "source": [
    "!jc list"
   ]
  },
  {
   "cell_type": "code",
   "execution_count": null,
   "metadata": {},
   "outputs": [],
   "source": [
    "!jc status modest-perch-68bee7577a"
   ]
  },
  {
   "cell_type": "markdown",
   "metadata": {},
   "source": [
    "### Send the data to your deployed flow to index it\n",
    "\n",
    "You need to get the host URL from the deployed flow. Access https://cloud.jina.ai/user/flows and get the name and the id of your flow. Together they make up the grpcs host URL: \"grpcs://\\<your-flow-name\\>-\\<your-flow-id\\>.jina.ai\"\n",
    "\n",
    "Note: This does take a while!"
   ]
  },
  {
   "cell_type": "code",
   "execution_count": null,
   "metadata": {
    "id": "QkwpcfP4OJL2"
   },
   "outputs": [],
   "source": [
    "from jina import Client"
   ]
  },
  {
   "cell_type": "code",
   "execution_count": null,
   "metadata": {
    "colab": {
     "base_uri": "https://localhost:8080/",
     "height": 321
    },
    "id": "aDeQ3qDwOsdS",
    "outputId": "19765e30-9ec5-45af-8575-64bc4f7cc3c0"
   },
   "outputs": [],
   "source": [
    "client = Client(host=\"grpcs://\\<your-flow-name\\>-\\<your-flow-id\\>.jina.ai\")\n",
    "for doc in da:\n",
    "    client.post(on=\"/index\", inputs=[doc])\n",
    "client.post(\"/status\")[0].tags"
   ]
  },
  {
   "cell_type": "code",
   "execution_count": null,
   "metadata": {
    "id": "2FJ11v9X21TG"
   },
   "outputs": [],
   "source": []
  }
 ],
 "metadata": {
  "colab": {
   "provenance": []
  },
  "kernelspec": {
   "display_name": "Python 3 (ipykernel)",
   "language": "python",
   "name": "python3"
  },
  "language_info": {
   "codemirror_mode": {
    "name": "ipython",
    "version": 3
   },
   "file_extension": ".py",
   "mimetype": "text/x-python",
   "name": "python",
   "nbconvert_exporter": "python",
   "pygments_lexer": "ipython3",
   "version": "3.10.9"
  },
  "widgets": {
   "application/vnd.jupyter.widget-state+json": {
    "2436a4c3026546a38d4ded971ad3b992": {
     "model_module": "@jupyter-widgets/base",
     "model_module_version": "1.2.0",
     "model_name": "LayoutModel",
     "state": {
      "_model_module": "@jupyter-widgets/base",
      "_model_module_version": "1.2.0",
      "_model_name": "LayoutModel",
      "_view_count": null,
      "_view_module": "@jupyter-widgets/base",
      "_view_module_version": "1.2.0",
      "_view_name": "LayoutView",
      "align_content": null,
      "align_items": null,
      "align_self": null,
      "border": null,
      "bottom": null,
      "display": null,
      "flex": null,
      "flex_flow": null,
      "grid_area": null,
      "grid_auto_columns": null,
      "grid_auto_flow": null,
      "grid_auto_rows": null,
      "grid_column": null,
      "grid_gap": null,
      "grid_row": null,
      "grid_template_areas": null,
      "grid_template_columns": null,
      "grid_template_rows": null,
      "height": null,
      "justify_content": null,
      "justify_items": null,
      "left": null,
      "margin": null,
      "max_height": null,
      "max_width": null,
      "min_height": null,
      "min_width": null,
      "object_fit": null,
      "object_position": null,
      "order": null,
      "overflow": null,
      "overflow_x": null,
      "overflow_y": null,
      "padding": null,
      "right": null,
      "top": null,
      "visibility": null,
      "width": null
     }
    },
    "2b16a35d9a6e445b891b35b317991899": {
     "model_module": "@jupyter-widgets/base",
     "model_module_version": "1.2.0",
     "model_name": "LayoutModel",
     "state": {
      "_model_module": "@jupyter-widgets/base",
      "_model_module_version": "1.2.0",
      "_model_name": "LayoutModel",
      "_view_count": null,
      "_view_module": "@jupyter-widgets/base",
      "_view_module_version": "1.2.0",
      "_view_name": "LayoutView",
      "align_content": null,
      "align_items": null,
      "align_self": null,
      "border": null,
      "bottom": null,
      "display": null,
      "flex": null,
      "flex_flow": null,
      "grid_area": null,
      "grid_auto_columns": null,
      "grid_auto_flow": null,
      "grid_auto_rows": null,
      "grid_column": null,
      "grid_gap": null,
      "grid_row": null,
      "grid_template_areas": null,
      "grid_template_columns": null,
      "grid_template_rows": null,
      "height": null,
      "justify_content": null,
      "justify_items": null,
      "left": null,
      "margin": null,
      "max_height": null,
      "max_width": null,
      "min_height": null,
      "min_width": null,
      "object_fit": null,
      "object_position": null,
      "order": null,
      "overflow": null,
      "overflow_x": null,
      "overflow_y": null,
      "padding": null,
      "right": null,
      "top": null,
      "visibility": null,
      "width": null
     }
    },
    "71542cb91b9545bc94a0dde1ead20aca": {
     "model_module": "@jupyter-widgets/output",
     "model_module_version": "1.0.0",
     "model_name": "OutputModel",
     "state": {
      "_dom_classes": [],
      "_model_module": "@jupyter-widgets/output",
      "_model_module_version": "1.0.0",
      "_model_name": "OutputModel",
      "_view_count": null,
      "_view_module": "@jupyter-widgets/output",
      "_view_module_version": "1.0.0",
      "_view_name": "OutputView",
      "layout": "IPY_MODEL_2436a4c3026546a38d4ded971ad3b992",
      "msg_id": "",
      "outputs": [
       {
        "data": {
         "text/html": "<pre style=\"white-space:pre;overflow-x:auto;line-height:normal;font-family:Menlo,'DejaVu Sans Mono',consolas,'Courier New',monospace\"><span style=\"color: #008000; text-decoration-color: #008000\">⠹</span> Working... <span style=\"color: #3a3a3a; text-decoration-color: #3a3a3a\">━━━━━━━━━━━━━━━━━━━━━━━━━━━━━━━━━━━━━━━━</span> <span style=\"color: #808000; text-decoration-color: #808000\">0:00:00</span> <span style=\"color: #800080; text-decoration-color: #800080\">  0%</span> <span style=\"color: #008080; text-decoration-color: #008080\">ETA:</span> <span style=\"color: #008080; text-decoration-color: #008080\">-:--:--</span>  \n</pre>\n",
         "text/plain": "\u001b[32m⠹\u001b[0m Working... \u001b[38;5;237m━━━━━━━━━━━━━━━━━━━━━━━━━━━━━━━━━━━━━━━━\u001b[0m \u001b[33m0:00:00\u001b[0m \u001b[35m  0%\u001b[0m \u001b[36mETA:\u001b[0m \u001b[36m-:--:--\u001b[0m  \n"
        },
        "metadata": {},
        "output_type": "display_data"
       }
      ]
     }
    },
    "985054ece9e74719a5698c8a662cf780": {
     "model_module": "@jupyter-widgets/output",
     "model_module_version": "1.0.0",
     "model_name": "OutputModel",
     "state": {
      "_dom_classes": [],
      "_model_module": "@jupyter-widgets/output",
      "_model_module_version": "1.0.0",
      "_model_name": "OutputModel",
      "_view_count": null,
      "_view_module": "@jupyter-widgets/output",
      "_view_module_version": "1.0.0",
      "_view_name": "OutputView",
      "layout": "IPY_MODEL_f862f9adc4164065bf82c94506bb0ae4",
      "msg_id": "",
      "outputs": [
       {
        "data": {
         "text/html": "<pre style=\"white-space:pre;overflow-x:auto;line-height:normal;font-family:Menlo,'DejaVu Sans Mono',consolas,'Courier New',monospace\"><span style=\"color: #008000; text-decoration-color: #008000\">⠏</span> Working... <span style=\"color: #3a3a3a; text-decoration-color: #3a3a3a\">━━━━━━━━━━━━━━━━━━━━━━━━━━━━━━━━━━━━━━━━</span> <span style=\"color: #808000; text-decoration-color: #808000\">0:03:03</span> <span style=\"color: #800080; text-decoration-color: #800080\">  0%</span> <span style=\"color: #008080; text-decoration-color: #008080\">ETA:</span> <span style=\"color: #008080; text-decoration-color: #008080\">-:--:--</span>  \n</pre>\n",
         "text/plain": "\u001b[32m⠏\u001b[0m Working... \u001b[38;5;237m━━━━━━━━━━━━━━━━━━━━━━━━━━━━━━━━━━━━━━━━\u001b[0m \u001b[33m0:03:03\u001b[0m \u001b[35m  0%\u001b[0m \u001b[36mETA:\u001b[0m \u001b[36m-:--:--\u001b[0m  \n"
        },
        "metadata": {},
        "output_type": "display_data"
       }
      ]
     }
    },
    "bcae34341d8d4ea3b56787c5b27c5605": {
     "model_module": "@jupyter-widgets/output",
     "model_module_version": "1.0.0",
     "model_name": "OutputModel",
     "state": {
      "_dom_classes": [],
      "_model_module": "@jupyter-widgets/output",
      "_model_module_version": "1.0.0",
      "_model_name": "OutputModel",
      "_view_count": null,
      "_view_module": "@jupyter-widgets/output",
      "_view_module_version": "1.0.0",
      "_view_name": "OutputView",
      "layout": "IPY_MODEL_2b16a35d9a6e445b891b35b317991899",
      "msg_id": "",
      "outputs": [
       {
        "data": {
         "text/html": "<pre style=\"white-space:pre;overflow-x:auto;line-height:normal;font-family:Menlo,'DejaVu Sans Mono',consolas,'Courier New',monospace\"><span style=\"color: #008000; text-decoration-color: #008000\">⠹</span> Working... <span style=\"color: #3a3a3a; text-decoration-color: #3a3a3a\">━━━━━━━━━━━━━━━━━━━━━━━━━━━━━━━━━━━━━━━━</span> <span style=\"color: #808000; text-decoration-color: #808000\">0:00:00</span> <span style=\"color: #800080; text-decoration-color: #800080\">  1%</span> <span style=\"color: #008080; text-decoration-color: #008080\">ETA:</span> <span style=\"color: #008080; text-decoration-color: #008080\">-:--:--</span>  \n</pre>\n",
         "text/plain": "\u001b[32m⠹\u001b[0m Working... \u001b[38;5;237m━━━━━━━━━━━━━━━━━━━━━━━━━━━━━━━━━━━━━━━━\u001b[0m \u001b[33m0:00:00\u001b[0m \u001b[35m  1%\u001b[0m \u001b[36mETA:\u001b[0m \u001b[36m-:--:--\u001b[0m  \n"
        },
        "metadata": {},
        "output_type": "display_data"
       }
      ]
     }
    },
    "f862f9adc4164065bf82c94506bb0ae4": {
     "model_module": "@jupyter-widgets/base",
     "model_module_version": "1.2.0",
     "model_name": "LayoutModel",
     "state": {
      "_model_module": "@jupyter-widgets/base",
      "_model_module_version": "1.2.0",
      "_model_name": "LayoutModel",
      "_view_count": null,
      "_view_module": "@jupyter-widgets/base",
      "_view_module_version": "1.2.0",
      "_view_name": "LayoutView",
      "align_content": null,
      "align_items": null,
      "align_self": null,
      "border": null,
      "bottom": null,
      "display": null,
      "flex": null,
      "flex_flow": null,
      "grid_area": null,
      "grid_auto_columns": null,
      "grid_auto_flow": null,
      "grid_auto_rows": null,
      "grid_column": null,
      "grid_gap": null,
      "grid_row": null,
      "grid_template_areas": null,
      "grid_template_columns": null,
      "grid_template_rows": null,
      "height": null,
      "justify_content": null,
      "justify_items": null,
      "left": null,
      "margin": null,
      "max_height": null,
      "max_width": null,
      "min_height": null,
      "min_width": null,
      "object_fit": null,
      "object_position": null,
      "order": null,
      "overflow": null,
      "overflow_x": null,
      "overflow_y": null,
      "padding": null,
      "right": null,
      "top": null,
      "visibility": null,
      "width": null
     }
    }
   }
  }
 },
 "nbformat": 4,
 "nbformat_minor": 1
}
