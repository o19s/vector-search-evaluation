{
 "cells": [
  {
   "cell_type": "markdown",
   "metadata": {},
   "source": [
    "# Query JCloud\n",
    "\n",
    "This notebook connects to the Flow that was created in the notebook \"1. JCloud Deployment\" and gets the results necessary for the evaluation by iterating over the set of queries."
   ]
  },
  {
   "cell_type": "markdown",
   "metadata": {},
   "source": [
    "## Install and import libraries "
   ]
  },
  {
   "cell_type": "code",
   "execution_count": null,
   "metadata": {
    "colab": {
     "base_uri": "https://localhost:8080/"
    },
    "id": "l3O4Sg5qUEVZ",
    "outputId": "35debc0b-6207-4cac-936d-0562e41b43c0"
   },
   "outputs": [],
   "source": [
    "!pip install jina\n",
    "!pip install docarray"
   ]
  },
  {
   "cell_type": "code",
   "execution_count": null,
   "metadata": {
    "id": "ZgMbKv-4T-vq"
   },
   "outputs": [],
   "source": [
    "from jina import Client\n",
    "from docarray import DocumentArray, Document\n",
    "import numpy as np\n",
    "import pandas as pd\n",
    "import json"
   ]
  },
  {
   "cell_type": "markdown",
   "metadata": {},
   "source": [
    "## Log into JCloud"
   ]
  },
  {
   "cell_type": "code",
   "execution_count": null,
   "metadata": {
    "colab": {
     "base_uri": "https://localhost:8080/"
    },
    "id": "Z88iswHyU7lB",
    "outputId": "80874caf-4461-4e5a-f6d7-cac7339f8c56"
   },
   "outputs": [],
   "source": [
    "!jc login\n",
    "!jc list"
   ]
  },
  {
   "cell_type": "markdown",
   "metadata": {},
   "source": [
    "## Read the queries from the data folder and query Jiina flow with each query\n",
    "\n",
    "Do not forget to insert the right host name!"
   ]
  },
  {
   "cell_type": "code",
   "execution_count": null,
   "metadata": {},
   "outputs": [],
   "source": [
    "client = Client(host=\"grpcs://\\<your-flow-name\\>-\\<your-flow-id\\>.jina.ai\")\n",
    "\n",
    "df_relevance = pd.DataFrame()\n",
    "\n",
    "df_queries = pd.read_csv('../data/queries.txt', sep=\"\\t\", header=None)\n",
    "\n",
    "for query in df_queries.itertuples():\n",
    "    \n",
    "    text_query = Document(text=query[2])\n",
    "    jcloud_matches = client.search(text_query, show_progress=True)\n",
    "    for i in range (0, 10):\n",
    "        # create a new row for the DataFrame and append it\n",
    "        row = { 'query_id' : str(query[1]), 'Q0' : \"Q0\", 'product_id' : jcloud_matches[0].matches[i].tags['id'], 'position' : str(i), 'relevance' : jcloud_matches[0].matches[i].scores['cosine'].value, 'run': 'jina' }\n",
    "        df_relevance = df_relevance.append(row, ignore_index=True)\n",
    "    \n",
    "# store the DataFrame without header and index, with tabs as delimiters\n",
    "name = '../data/jina_result.qrels'\n",
    "df_relevance.to_csv(name, sep=\"\\t\", header=False, index=False)\n",
    "df_relevance\n",
    "# work with two counters:\n",
    "# 1) one to iterate over the list of queries and have a query id instead of a query\n",
    "# 2) another one to iterate over the result sets to have the position of the result in the result set \n",
    "\n",
    "# DataFrame with columns:\n",
    "# query_id: the id of the query as the trec_eval tool needs a numeric id rather than a query string as an identifier\n",
    "# Q0: all lines have Q0, currently unused by trec_eval\n",
    "# product_id: the id of the product in the hit list\n",
    "# position: the position of the product in the result set\n",
    "# relevance: relevance as given by the search engine, cosine similarity in the case of jina\n",
    "# run: the name of the query run"
   ]
  },
  {
   "cell_type": "markdown",
   "metadata": {},
   "source": [
    "### Sample with two queries"
   ]
  },
  {
   "cell_type": "code",
   "execution_count": null,
   "metadata": {
    "colab": {
     "base_uri": "https://localhost:8080/",
     "height": 35
    },
    "id": "to5N4IJWTvOI",
    "outputId": "871a487d-72d5-4a3f-e1d4-eee26c78a9ac"
   },
   "outputs": [],
   "source": [
    "jcloud_matches[0].matches[0].tags['id']"
   ]
  },
  {
   "cell_type": "code",
   "execution_count": null,
   "metadata": {
    "id": "rR7Cw0a6kVpR"
   },
   "outputs": [],
   "source": [
    "df_queries = pd.read_csv('../data/queries.txt', sep=\"\\t\", header=None)\n",
    "\n",
    "for query in df_queries.itertuples():\n",
    "    \n",
    "    text_query = Document(text=query[2])\n",
    "    jcloud_matches = client.search(text_query, show_progress=True)\n",
    "    for i in range (0, 10):\n",
    "        # create a new row for the DataFrame and append it\n",
    "        row = { 'query_id' : str(query_i), 'Q0' : \"Q0\", 'product_id' : jcloud_matches[0].matches[i].tags['id'], 'position' : str(i), 'relevance' : jcloud_matches[0].matches[i].scores['cosine'].value, 'run': 'jina' }\n",
    "        df_relevance = df_relevance.append(row, ignore_index=True)\n",
    "    \n",
    "df_relevance\n"
   ]
  },
  {
   "cell_type": "code",
   "execution_count": null,
   "metadata": {},
   "outputs": [],
   "source": []
  }
 ],
 "metadata": {
  "colab": {
   "provenance": []
  },
  "kernelspec": {
   "display_name": "Python 3 (ipykernel)",
   "language": "python",
   "name": "python3"
  },
  "language_info": {
   "codemirror_mode": {
    "name": "ipython",
    "version": 3
   },
   "file_extension": ".py",
   "mimetype": "text/x-python",
   "name": "python",
   "nbconvert_exporter": "python",
   "pygments_lexer": "ipython3",
   "version": "3.10.9"
  },
  "widgets": {
   "application/vnd.jupyter.widget-state+json": {
    "3e70c8316b904dffa5e8b8bc1b5a1e95": {
     "model_module": "@jupyter-widgets/base",
     "model_module_version": "1.2.0",
     "model_name": "LayoutModel",
     "state": {
      "_model_module": "@jupyter-widgets/base",
      "_model_module_version": "1.2.0",
      "_model_name": "LayoutModel",
      "_view_count": null,
      "_view_module": "@jupyter-widgets/base",
      "_view_module_version": "1.2.0",
      "_view_name": "LayoutView",
      "align_content": null,
      "align_items": null,
      "align_self": null,
      "border": null,
      "bottom": null,
      "display": null,
      "flex": null,
      "flex_flow": null,
      "grid_area": null,
      "grid_auto_columns": null,
      "grid_auto_flow": null,
      "grid_auto_rows": null,
      "grid_column": null,
      "grid_gap": null,
      "grid_row": null,
      "grid_template_areas": null,
      "grid_template_columns": null,
      "grid_template_rows": null,
      "height": null,
      "justify_content": null,
      "justify_items": null,
      "left": null,
      "margin": null,
      "max_height": null,
      "max_width": null,
      "min_height": null,
      "min_width": null,
      "object_fit": null,
      "object_position": null,
      "order": null,
      "overflow": null,
      "overflow_x": null,
      "overflow_y": null,
      "padding": null,
      "right": null,
      "top": null,
      "visibility": null,
      "width": null
     }
    },
    "c2ab0a13ba7d490aa8dc06e7b2cc0609": {
     "model_module": "@jupyter-widgets/base",
     "model_module_version": "1.2.0",
     "model_name": "LayoutModel",
     "state": {
      "_model_module": "@jupyter-widgets/base",
      "_model_module_version": "1.2.0",
      "_model_name": "LayoutModel",
      "_view_count": null,
      "_view_module": "@jupyter-widgets/base",
      "_view_module_version": "1.2.0",
      "_view_name": "LayoutView",
      "align_content": null,
      "align_items": null,
      "align_self": null,
      "border": null,
      "bottom": null,
      "display": null,
      "flex": null,
      "flex_flow": null,
      "grid_area": null,
      "grid_auto_columns": null,
      "grid_auto_flow": null,
      "grid_auto_rows": null,
      "grid_column": null,
      "grid_gap": null,
      "grid_row": null,
      "grid_template_areas": null,
      "grid_template_columns": null,
      "grid_template_rows": null,
      "height": null,
      "justify_content": null,
      "justify_items": null,
      "left": null,
      "margin": null,
      "max_height": null,
      "max_width": null,
      "min_height": null,
      "min_width": null,
      "object_fit": null,
      "object_position": null,
      "order": null,
      "overflow": null,
      "overflow_x": null,
      "overflow_y": null,
      "padding": null,
      "right": null,
      "top": null,
      "visibility": null,
      "width": null
     }
    },
    "d65d63a4569a49bfa59f6aed8725efa8": {
     "model_module": "@jupyter-widgets/output",
     "model_module_version": "1.0.0",
     "model_name": "OutputModel",
     "state": {
      "_dom_classes": [],
      "_model_module": "@jupyter-widgets/output",
      "_model_module_version": "1.0.0",
      "_model_name": "OutputModel",
      "_view_count": null,
      "_view_module": "@jupyter-widgets/output",
      "_view_module_version": "1.0.0",
      "_view_name": "OutputView",
      "layout": "IPY_MODEL_c2ab0a13ba7d490aa8dc06e7b2cc0609",
      "msg_id": "",
      "outputs": [
       {
        "data": {
         "text/html": "<pre style=\"white-space:pre;overflow-x:auto;line-height:normal;font-family:Menlo,'DejaVu Sans Mono',consolas,'Courier New',monospace\"><span style=\"color: #008000; text-decoration-color: #008000\">⠋</span> Working... <span style=\"color: #3a3a3a; text-decoration-color: #3a3a3a\">━━━━━━━━━━━━━━━━━━━━━━━━━━━━━━━━━━━━━━━━</span> <span style=\"color: #808000; text-decoration-color: #808000\">0:00:00</span> <span style=\"color: #800080; text-decoration-color: #800080\">  0%</span> <span style=\"color: #008080; text-decoration-color: #008080\">ETA:</span> <span style=\"color: #008080; text-decoration-color: #008080\">-:--:--</span>  \n</pre>\n",
         "text/plain": "\u001b[32m⠋\u001b[0m Working... \u001b[38;5;237m━━━━━━━━━━━━━━━━━━━━━━━━━━━━━━━━━━━━━━━━\u001b[0m \u001b[33m0:00:00\u001b[0m \u001b[35m  0%\u001b[0m \u001b[36mETA:\u001b[0m \u001b[36m-:--:--\u001b[0m  \n"
        },
        "metadata": {},
        "output_type": "display_data"
       }
      ]
     }
    },
    "eee4fd5e155d4664b9d91acb6e07c505": {
     "model_module": "@jupyter-widgets/output",
     "model_module_version": "1.0.0",
     "model_name": "OutputModel",
     "state": {
      "_dom_classes": [],
      "_model_module": "@jupyter-widgets/output",
      "_model_module_version": "1.0.0",
      "_model_name": "OutputModel",
      "_view_count": null,
      "_view_module": "@jupyter-widgets/output",
      "_view_module_version": "1.0.0",
      "_view_name": "OutputView",
      "layout": "IPY_MODEL_3e70c8316b904dffa5e8b8bc1b5a1e95",
      "msg_id": "",
      "outputs": [
       {
        "data": {
         "text/html": "<pre style=\"white-space:pre;overflow-x:auto;line-height:normal;font-family:Menlo,'DejaVu Sans Mono',consolas,'Courier New',monospace\"><span style=\"color: #008000; text-decoration-color: #008000\">⠙</span> Working... <span style=\"color: #3a3a3a; text-decoration-color: #3a3a3a\">━━━━━━━━━━━━━━━━━━━━━━━━━━━━━━━━━━━━━━━━</span> <span style=\"color: #808000; text-decoration-color: #808000\">0:00:00</span> <span style=\"color: #800080; text-decoration-color: #800080\">  0%</span> <span style=\"color: #008080; text-decoration-color: #008080\">ETA:</span> <span style=\"color: #008080; text-decoration-color: #008080\">-:--:--</span>  \n</pre>\n",
         "text/plain": "\u001b[32m⠙\u001b[0m Working... \u001b[38;5;237m━━━━━━━━━━━━━━━━━━━━━━━━━━━━━━━━━━━━━━━━\u001b[0m \u001b[33m0:00:00\u001b[0m \u001b[35m  0%\u001b[0m \u001b[36mETA:\u001b[0m \u001b[36m-:--:--\u001b[0m  \n"
        },
        "metadata": {},
        "output_type": "display_data"
       }
      ]
     }
    }
   }
  }
 },
 "nbformat": 4,
 "nbformat_minor": 1
}
