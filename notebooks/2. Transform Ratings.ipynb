{
 "cells": [
  {
   "cell_type": "markdown",
   "id": "8533bd1d",
   "metadata": {},
   "source": [
    "# Transform Ratings\n",
    "\n",
    "This notebook takes the rated broad query set from Chorus (extended for the accompanying blog post) and generates two output files:\n",
    "1) a file with ratings in a format the trec_eval tool can use to evaluate the relevance of our competing search engines.\n",
    "2) a file with the queries that can be used as the input for the evaluation runs."
   ]
  },
  {
   "cell_type": "code",
   "execution_count": null,
   "id": "b41c6624",
   "metadata": {},
   "outputs": [],
   "source": [
    "import pandas as pd"
   ]
  },
  {
   "cell_type": "markdown",
   "id": "f8bf7827",
   "metadata": {},
   "source": [
    "## Get the broad set of rated queries"
   ]
  },
  {
   "cell_type": "code",
   "execution_count": null,
   "id": "4468c53f",
   "metadata": {},
   "outputs": [],
   "source": [
    "df_rated_queries = pd.read_csv('../data/Broad_Query_Set_rated_extended.csv')\n",
    "df_rated_queries"
   ]
  },
  {
   "cell_type": "markdown",
   "id": "323e024c",
   "metadata": {},
   "source": [
    "## Group by queries and export to a file with the index to have queries and query ids"
   ]
  },
  {
   "cell_type": "code",
   "execution_count": null,
   "id": "bd92be40",
   "metadata": {},
   "outputs": [],
   "source": [
    "#df_queries = df_rated_queries['query']\n",
    "df_queries = df_rated_queries.groupby(by='query', as_index=False).agg({\n",
    "    'rating': ['count']\n",
    "})\n",
    "df_query_idx = df_queries['query']\n",
    "name = '../data/queries.txt'\n",
    "\n",
    "df_query_idx.to_csv(name, sep=\"\\t\", header=False)"
   ]
  },
  {
   "cell_type": "markdown",
   "id": "a71245ce",
   "metadata": {},
   "source": [
    "## Go through the queries and update the original ratings with the query ids"
   ]
  },
  {
   "cell_type": "code",
   "execution_count": null,
   "id": "f1461aa4",
   "metadata": {},
   "outputs": [],
   "source": [
    "for idx, row in df_query_idx.iteritems():\n",
    "    df_rated_queries.loc[df_rated_queries['query'] == row, \"idx\"] = str(idx)\n",
    "\n",
    "    \n",
    "df_rated_queries['Q0'] = 0\n",
    "df_ratings = df_rated_queries[['idx', 'Q0', 'docid', 'rating']]"
   ]
  },
  {
   "cell_type": "markdown",
   "id": "48a92878",
   "metadata": {},
   "source": [
    "## Save ratings to file"
   ]
  },
  {
   "cell_type": "code",
   "execution_count": null,
   "id": "cb15902a",
   "metadata": {},
   "outputs": [],
   "source": [
    "name = '../data/ratings.qrels'\n",
    "\n",
    "df_ratings.to_csv(name, sep=\"\\t\", header=False, index=False)\n",
    "df_ratings"
   ]
  },
  {
   "cell_type": "code",
   "execution_count": null,
   "id": "7293af4e",
   "metadata": {},
   "outputs": [],
   "source": []
  }
 ],
 "metadata": {
  "kernelspec": {
   "display_name": "Python 3 (ipykernel)",
   "language": "python",
   "name": "python3"
  },
  "language_info": {
   "codemirror_mode": {
    "name": "ipython",
    "version": 3
   },
   "file_extension": ".py",
   "mimetype": "text/x-python",
   "name": "python",
   "nbconvert_exporter": "python",
   "pygments_lexer": "ipython3",
   "version": "3.10.9"
  }
 },
 "nbformat": 4,
 "nbformat_minor": 5
}
